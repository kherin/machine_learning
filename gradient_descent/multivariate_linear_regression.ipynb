{
 "cells": [
  {
   "cell_type": "markdown",
   "id": "05c8a057",
   "metadata": {},
   "source": [
    "# Part 3: Multivariate Linear Regression"
   ]
  },
  {
   "cell_type": "code",
   "execution_count": 10,
   "id": "1913a985",
   "metadata": {},
   "outputs": [],
   "source": [
    "graphics_toolkit (\"gnuplot\");"
   ]
  },
  {
   "cell_type": "code",
   "execution_count": 2,
   "id": "a8d836eb",
   "metadata": {},
   "outputs": [],
   "source": [
    "x = load(\"datasets/ex3x.dat\");\n",
    "y = load(\"datasets/ex3y.dat\");"
   ]
  },
  {
   "cell_type": "code",
   "execution_count": 3,
   "id": "4b3b3702",
   "metadata": {},
   "outputs": [],
   "source": [
    "% adding intercept\n",
    "m = length(x);\n",
    "x = [ones(m, 1), x];\n",
    "unscaled_x = x;"
   ]
  },
  {
   "cell_type": "code",
   "execution_count": 4,
   "id": "b8cb4557",
   "metadata": {},
   "outputs": [],
   "source": [
    "% standardising values\n",
    "sigma = std(x);\n",
    "mu = mean(x);\n",
    "x(:,2) = (x(:,2) - mu(2))./ sigma(2);\n",
    "x(:,3) = (x(:,3) - mu(3))./ sigma(3);"
   ]
  },
  {
   "cell_type": "code",
   "execution_count": 5,
   "id": "2f4fd6df",
   "metadata": {},
   "outputs": [],
   "source": [
    "function J = computeCost(X, y, theta)\n",
    "    m = length(y); % number of training examples\n",
    "\n",
    "    cost = 0;\n",
    "    for i = 1:m\n",
    "        cost = cost + (theta' * X(i,:)'- y(i))^2;\n",
    "    end;\n",
    "    \n",
    "    J = cost / (2 * m);\n",
    "\n",
    "end"
   ]
  },
  {
   "cell_type": "code",
   "execution_count": 6,
   "id": "64d049f7",
   "metadata": {},
   "outputs": [],
   "source": [
    "function [theta, J_history] = gradientDescent(X, y, theta, alpha, num_iters)\n",
    "\n",
    "    % Initialize some useful values\n",
    "    m = length(y); % number of training examples\n",
    "    J_history = zeros(num_iters, 1);\n",
    "\n",
    "    for iter = 1:num_iters\n",
    "\n",
    "        h = X * theta;\n",
    "        errors = h - y;\n",
    "        delta = X' * errors;\n",
    "        theta = theta - (alpha / m) * delta;\n",
    "        \n",
    "        J_history = computeCost(X, y, theta);\n",
    "    end\n",
    "\n",
    "end"
   ]
  },
  {
   "cell_type": "markdown",
   "id": "6f45b6e2",
   "metadata": {},
   "source": [
    "### (i) Calculate J(θ), loss,  using the θ of the current stage of gradient descent."
   ]
  },
  {
   "cell_type": "code",
   "execution_count": 7,
   "id": "124a06a8",
   "metadata": {},
   "outputs": [],
   "source": [
    "function [theta, J_history] = calculateHistory(x, y, learning_rate, number_of_iterations)\n",
    "    theta = zeros (size(x(1,:)))';\n",
    "\n",
    "    J_history = zeros (50, 1);\n",
    "\n",
    "    for current_iteration = 1:number_of_iterations\n",
    "        [theta, J_history(current_iteration)] = gradientDescent(x, y, theta, learning_rate, current_iteration); \n",
    "    end\n",
    "\n",
    "end"
   ]
  },
  {
   "cell_type": "code",
   "execution_count": 11,
   "id": "fa65d0fa",
   "metadata": {},
   "outputs": [
    {
     "data": {
      "image/png": "[encoded data removed]",
      "text/plain": [
       "<IPython.core.display.Image object>"
      ]
     },
     "metadata": {},
     "output_type": "display_data"
    },
    {
     "data": {
      "image/png": "[encoded data removed]",
      "text/plain": [
       "<IPython.core.display.Image object>"
      ]
     },
     "metadata": {},
     "output_type": "display_data"
    }
   ],
   "source": [
    "% 1\n",
    "learning_rate_1 = 0.0080;\n",
    "number_of_iterations_1 = 50;\n",
    "\n",
    "% 2\n",
    "learning_rate_2 = 0.0150;\n",
    "number_of_iterations_2 = 50;\n",
    "\n",
    "% 3\n",
    "learning_rate_3 = 0.0300;\n",
    "number_of_iterations_3 = 50;\n",
    "\n",
    "% 4\n",
    "learning_rate_4 = 1.4;\n",
    "number_of_iterations_4 = 50;\n",
    "\n",
    "[calculated_theta_1, calculated_J_history_1] = calculateHistory(x, y, learning_rate_1, number_of_iterations_1);\n",
    "[calculated_theta_2, calculated_J_history_2] = calculateHistory(x, y, learning_rate_2, number_of_iterations_2);\n",
    "[calculated_theta_3, calculated_J_history_3] = calculateHistory(x, y, learning_rate_3, number_of_iterations_3);\n",
    "[calculated_theta_4, calculated_J_history_4] = calculateHistory(x, y, learning_rate_4, number_of_iterations_4);\n",
    "\n",
    "\n",
    "figure;\n",
    "% J1\n",
    "plot(0:49, calculated_J_history_1(1:50), 'b-');\n",
    "\n",
    "% J2\n",
    "hold on;\n",
    "plot(0:49, calculated_J_history_2(1:50), 'r-');\n",
    "\n",
    "% J3\n",
    "hold on;\n",
    "plot(0:49, calculated_J_history_3(1:50), 'g-');\n",
    "\n",
    "\n",
    "legend('0.0080', '0.0150', '0.0300');\n",
    "xlabel(\"Number of iterations\");\n",
    "ylabel(\"Cost J\");\n",
    "\n",
    "% J4\n",
    "figure;\n",
    "plot(0:49, calculated_J_history_4(1:50), 'r--');\n",
    "legend('1.4');\n",
    "xlabel(\"Number of iterations\");\n",
    "ylabel(\"Cost J\");"
   ]
  },
  {
   "cell_type": "markdown",
   "id": "8f94f77d",
   "metadata": {},
   "source": [
    "## Question 1: What happens when the learning rate is too small? Too large?"
   ]
  },
  {
   "cell_type": "markdown",
   "id": "3a895bf0",
   "metadata": {},
   "source": [
    "##### Answer: \n",
    "As observed on the second plotted graph above, when the learning rate is small, the cost function takes more iterations to converge, while a large learning rate takes a lesser number of iterations before converging. However if the learning rate is too large, $J(\\theta)$ might blow up like in the first graph above when learning rate was set to `1.4` ."
   ]
  },
  {
   "cell_type": "markdown",
   "id": "2bcde9e8",
   "metadata": {},
   "source": [
    "## Question 2:\n",
    "#### Using the best learning rate that we found, run gradient descent until convergence to find:\n",
    "- The final values of θ\n",
    "- The predicted price of a house with 1650 square feet and 3 bedrooms. We must not forget to scale the features when we make this prediction!\n"
   ]
  },
  {
   "cell_type": "code",
   "execution_count": 12,
   "id": "e1ca1ab7",
   "metadata": {},
   "outputs": [
    {
     "name": "stdout",
     "output_type": "stream",
     "text": [
      "340413\r\n",
      "110631\r\n",
      "-6649\r\n"
     ]
    }
   ],
   "source": [
    "% Final Values of θ:\n",
    "fprintf('%.0f\\n', calculated_theta_3)"
   ]
  },
  {
   "cell_type": "code",
   "execution_count": 17,
   "id": "950cd325",
   "metadata": {},
   "outputs": [
    {
     "name": "stdout",
     "output_type": "stream",
     "text": [
      "Price of 1650 square feet and 3 bedroom house is $293081."
     ]
    }
   ],
   "source": [
    "price_grad_desc = dot(calculated_theta_3, [1, (1650 - mu(2))/sigma(2), (3 - mu(3))/sigma(3)]);\n",
    "theta_normal = (unscaled_x' * unscaled_x)\\unscaled_x' * y;\n",
    "\n",
    "%Estimate the house price again\n",
    "price_normal = dot(theta_normal, [1, 1650, 3]);\n",
    "fprintf(\"Price of 1650 square feet and 3 bedroom house is $%0.f.\", price_normal);"
   ]
  },
  {
   "cell_type": "code",
   "execution_count": null,
   "id": "4bb34925",
   "metadata": {},
   "outputs": [],
   "source": []
  }
 ],
 "metadata": {
  "kernelspec": {
   "display_name": "Octave",
   "language": "octave",
   "name": "octave"
  },
  "language_info": {
   "file_extension": ".m",
   "help_links": [
    {
     "text": "GNU Octave",
     "url": "https://www.gnu.org/software/octave/support.html"
    },
    {
     "text": "Octave Kernel",
     "url": "https://github.com/Calysto/octave_kernel"
    },
    {
     "text": "MetaKernel Magics",
     "url": "https://metakernel.readthedocs.io/en/latest/source/README.html"
    }
   ],
   "mimetype": "text/x-octave",
   "name": "octave",
   "version": "6.2.0"
  }
 },
 "nbformat": 4,
 "nbformat_minor": 5
}
