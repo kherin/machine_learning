{
 "cells": [
  {
   "cell_type": "code",
   "execution_count": null,
   "id": "b3acb2f5",
   "metadata": {},
   "outputs": [],
   "source": [
    "\"\"\"\n",
    "    Author: Kherin Bundhoo\n",
    "    \n",
    "\"\"\""
   ]
  },
  {
   "cell_type": "code",
   "execution_count": null,
   "id": "9e5e03d6",
   "metadata": {},
   "outputs": [],
   "source": [
    "# import libraries\n"
   ]
  },
  {
   "cell_type": "code",
   "execution_count": null,
   "id": "6d0ef5a0",
   "metadata": {},
   "outputs": [],
   "source": [
    "# Loading Data"
   ]
  },
  {
   "cell_type": "code",
   "execution_count": null,
   "id": "de117b1d",
   "metadata": {},
   "outputs": [],
   "source": [
    "# Visualisation"
   ]
  },
  {
   "cell_type": "code",
   "execution_count": null,
   "id": "b8b86659",
   "metadata": {},
   "outputs": [],
   "source": [
    "# Data Preprocessing\n",
    "\n",
    "    ## Data cleansing:\n",
    "\n",
    "        ### make all characters lowercase\n",
    "        ### remove punctuation\n",
    "    ## Tokenize\n",
    "    ## Word Stemming"
   ]
  },
  {
   "cell_type": "code",
   "execution_count": null,
   "id": "227d50c0",
   "metadata": {},
   "outputs": [],
   "source": [
    "# Feature Selection\n",
    "\n",
    " ## Term Frequency Inverse Document Frequency"
   ]
  },
  {
   "cell_type": "code",
   "execution_count": null,
   "id": "79bfc342",
   "metadata": {},
   "outputs": [],
   "source": [
    "# Classifier\n",
    "\n",
    "## Dummy\n",
    "## Naive Bayes\n",
    "## Logistic Regression\n",
    "## Support Vector Machine\n",
    "## Decision Trees\n",
    "## K-means clustering"
   ]
  },
  {
   "cell_type": "code",
   "execution_count": null,
   "id": "5f2af434",
   "metadata": {},
   "outputs": [],
   "source": [
    "# Evaluation\n",
    "\n",
    "## Confusion Matrix\n",
    "## ROC Curve and AUC\n",
    "## Precision-Recall Curve\n",
    "## Overfitting vs Underfitting\n",
    "## k-fold Cross Validation"
   ]
  },
  {
   "cell_type": "code",
   "execution_count": null,
   "id": "7eca78b2",
   "metadata": {},
   "outputs": [],
   "source": [
    "# References & Resources"
   ]
  }
 ],
 "metadata": {
  "kernelspec": {
   "display_name": "Python 3",
   "language": "python",
   "name": "python3"
  },
  "language_info": {
   "codemirror_mode": {
    "name": "ipython",
    "version": 3
   },
   "file_extension": ".py",
   "mimetype": "text/x-python",
   "name": "python",
   "nbconvert_exporter": "python",
   "pygments_lexer": "ipython3",
   "version": "3.5.6"
  }
 },
 "nbformat": 4,
 "nbformat_minor": 5
}
