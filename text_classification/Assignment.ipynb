{
 "cells": [
  {
   "cell_type": "markdown",
   "id": "09db30d0",
   "metadata": {},
   "source": [
    "# Assignment 1: Classification\n",
    "\n",
    "### Programme\n",
    "- IC502\n",
    "-  MSc Artificial Intelligence\t\n",
    "\n",
    "### Module\n",
    "- Module Code: SIS 6117\n",
    "- Module Name: Machine Learning\n",
    "\n",
    "##### Student\n",
    "- ID: 2023146\n",
    "- Name: Kherin Bundhoo"
   ]
  },
  {
   "cell_type": "markdown",
   "id": "020c1d70",
   "metadata": {},
   "source": [
    "## Table Of Contents\n",
    "\n",
    "- ### Overview\n",
    "- ### Loading data\n",
    "- ### Visualization\n",
    "- ### Data Preprocessing\n",
    "- ### Feature Extraction\n",
    "- ### Classifiers:\n",
    "    - #### Naive Bayes\n",
    "    - #### Decision Trees\n",
    "    - #### K-Nearest Neighbor\n",
    "    - #### Support Vector Machines\n",
    "- ### Evaluation of Models\n",
    "    - #### Confusion Matrix\n",
    "- ### Conclusion\n",
    "- ### References"
   ]
  },
  {
   "cell_type": "code",
   "execution_count": 1,
   "id": "4e1a26ab",
   "metadata": {},
   "outputs": [
    {
     "name": "stderr",
     "output_type": "stream",
     "text": [
      "[nltk_data] Downloading package punkt to ....\n",
      "[nltk_data]   Package punkt is already up-to-date!\n"
     ]
    }
   ],
   "source": [
    "# importing required libraries\n",
    "\n",
    "import matplotlib.pyplot as plt\n",
    "import numpy as np\n",
    "import sys\n",
    "import pandas as pd\n",
    "from yellowbrick.text import FreqDistVisualizer\n",
    "from yellowbrick.classifier import ClassificationReport\n",
    "\n",
    "import nltk\n",
    "nltk.download('punkt', download_dir='.')\n",
    "from nltk.stem import PorterStemmer\n",
    "\n",
    "from sklearn.metrics import classification_report, confusion_matrix\n",
    "from sklearn.feature_extraction.text import CountVectorizer\n",
    "from sklearn.feature_extraction.text import TfidfTransformer\n",
    "from sklearn.model_selection import train_test_split\n",
    "from sklearn.naive_bayes import MultinomialNB\n",
    "from sklearn.tree import DecisionTreeClassifier\n",
    "from sklearn.preprocessing import StandardScaler\n",
    "from sklearn.neighbors import KNeighborsClassifier\n",
    "from sklearn import svm"
   ]
  },
  {
   "cell_type": "markdown",
   "id": "bcc38f26",
   "metadata": {},
   "source": [
    "# Overview\n",
    "\n",
    "The current Jupyter notebook illustrates the conception of several classification models. Those models are then evaluated based on their performance while executing the same goal: *classification of IT Support Ticktets* on a given dataset. \n",
    "\n",
    "Each ticket is comprised of a short description of an issue being faced by an end-user while utilising a particular IT service. Those issues varies in root causes and can only be handled by specific teams.\n",
    "\n",
    "Hence, in a large corporation, with domain-specific teams, the automation of the IT Support Tickets represents a real business advantage.\n",
    "\n",
    "*Note: More details about the business value are captured in the related report*"
   ]
  },
  {
   "cell_type": "markdown",
   "id": "bb7817c9",
   "metadata": {},
   "source": [
    "# Load data\n",
    "\n",
    "Using pandas to loading data from a csv file (*raw.csv*) containing categorized descriptions of it tickets"
   ]
  },
  {
   "cell_type": "code",
   "execution_count": 2,
   "id": "bbb397b0",
   "metadata": {},
   "outputs": [],
   "source": [
    "# Loading Data\n",
    "df = pd.read_csv(\"datasets/raw.csv\")"
   ]
  },
  {
   "cell_type": "markdown",
   "id": "b22d2f4a",
   "metadata": {},
   "source": [
    "# Visualization\n",
    "\n",
    "Displaying the 10 first and last rows of the raw dataset from the dataframe"
   ]
  },
  {
   "cell_type": "code",
   "execution_count": 3,
   "id": "9cd80b49",
   "metadata": {},
   "outputs": [
    {
     "data": {
      "text/html": [
       "<div>\n",
       "<style scoped>\n",
       "    .dataframe tbody tr th:only-of-type {\n",
       "        vertical-align: middle;\n",
       "    }\n",
       "\n",
       "    .dataframe tbody tr th {\n",
       "        vertical-align: top;\n",
       "    }\n",
       "\n",
       "    .dataframe thead th {\n",
       "        text-align: right;\n",
       "    }\n",
       "</style>\n",
       "<table border=\"1\" class=\"dataframe\">\n",
       "  <thead>\n",
       "    <tr style=\"text-align: right;\">\n",
       "      <th></th>\n",
       "      <th>description</th>\n",
       "      <th>category</th>\n",
       "    </tr>\n",
       "  </thead>\n",
       "  <tbody>\n",
       "    <tr>\n",
       "      <th>0</th>\n",
       "      <td>Hi since recruiter lead permission approve req...</td>\n",
       "      <td>Application</td>\n",
       "    </tr>\n",
       "    <tr>\n",
       "      <th>1</th>\n",
       "      <td>re expire days Hi ask help update passwords co...</td>\n",
       "      <td>Application</td>\n",
       "    </tr>\n",
       "    <tr>\n",
       "      <th>2</th>\n",
       "      <td>verification warning Hi has got attached Pleas...</td>\n",
       "      <td>Application</td>\n",
       "    </tr>\n",
       "    <tr>\n",
       "      <th>3</th>\n",
       "      <td>Please dear looks blacklisted receiving mails ...</td>\n",
       "      <td>Application</td>\n",
       "    </tr>\n",
       "    <tr>\n",
       "      <th>4</th>\n",
       "      <td>dear modules report report cost thank much reg...</td>\n",
       "      <td>Application</td>\n",
       "    </tr>\n",
       "    <tr>\n",
       "      <th>5</th>\n",
       "      <td>Please action reports dear way help close thes...</td>\n",
       "      <td>Application</td>\n",
       "    </tr>\n",
       "    <tr>\n",
       "      <th>6</th>\n",
       "      <td>Hello Please fill date.</td>\n",
       "      <td>Application</td>\n",
       "    </tr>\n",
       "    <tr>\n",
       "      <th>7</th>\n",
       "      <td>secondary Hi Please provide secondary ledger u...</td>\n",
       "      <td>Application</td>\n",
       "    </tr>\n",
       "    <tr>\n",
       "      <th>8</th>\n",
       "      <td>copy Hi receive copy behavior expect receive m...</td>\n",
       "      <td>Application</td>\n",
       "    </tr>\n",
       "    <tr>\n",
       "      <th>9</th>\n",
       "      <td>invitation strategy workshop february manchest...</td>\n",
       "      <td>Application</td>\n",
       "    </tr>\n",
       "  </tbody>\n",
       "</table>\n",
       "</div>"
      ],
      "text/plain": [
       "                                         description     category\n",
       "0  Hi since recruiter lead permission approve req...  Application\n",
       "1  re expire days Hi ask help update passwords co...  Application\n",
       "2  verification warning Hi has got attached Pleas...  Application\n",
       "3  Please dear looks blacklisted receiving mails ...  Application\n",
       "4  dear modules report report cost thank much reg...  Application\n",
       "5  Please action reports dear way help close thes...  Application\n",
       "6                            Hello Please fill date.  Application\n",
       "7  secondary Hi Please provide secondary ledger u...  Application\n",
       "8  copy Hi receive copy behavior expect receive m...  Application\n",
       "9  invitation strategy workshop february manchest...  Application"
      ]
     },
     "execution_count": 3,
     "metadata": {},
     "output_type": "execute_result"
    }
   ],
   "source": [
    "df.head(10) # displays 10 first rows"
   ]
  },
  {
   "cell_type": "code",
   "execution_count": 4,
   "id": "006b1c2b",
   "metadata": {},
   "outputs": [
    {
     "data": {
      "text/html": [
       "<div>\n",
       "<style scoped>\n",
       "    .dataframe tbody tr th:only-of-type {\n",
       "        vertical-align: middle;\n",
       "    }\n",
       "\n",
       "    .dataframe tbody tr th {\n",
       "        vertical-align: top;\n",
       "    }\n",
       "\n",
       "    .dataframe thead th {\n",
       "        text-align: right;\n",
       "    }\n",
       "</style>\n",
       "<table border=\"1\" class=\"dataframe\">\n",
       "  <thead>\n",
       "    <tr style=\"text-align: right;\">\n",
       "      <th></th>\n",
       "      <th>description</th>\n",
       "      <th>category</th>\n",
       "    </tr>\n",
       "  </thead>\n",
       "  <tbody>\n",
       "    <tr>\n",
       "      <th>2990</th>\n",
       "      <td>sent monday printer issues Hi xerox printer ac...</td>\n",
       "      <td>Database</td>\n",
       "    </tr>\n",
       "    <tr>\n",
       "      <th>2991</th>\n",
       "      <td>sent tuesday re notification upgrade la thanks...</td>\n",
       "      <td>Database</td>\n",
       "    </tr>\n",
       "    <tr>\n",
       "      <th>2992</th>\n",
       "      <td>sent monday re sporadically send certain invit...</td>\n",
       "      <td>Database</td>\n",
       "    </tr>\n",
       "    <tr>\n",
       "      <th>2993</th>\n",
       "      <td>one plastic pieces covering hinge keeps screen...</td>\n",
       "      <td>Database</td>\n",
       "    </tr>\n",
       "    <tr>\n",
       "      <th>2994</th>\n",
       "      <td>sent friday problem data aud sica sa sa data s...</td>\n",
       "      <td>Database</td>\n",
       "    </tr>\n",
       "    <tr>\n",
       "      <th>2995</th>\n",
       "      <td>sent tuesday feedback follow up! conf call Hel...</td>\n",
       "      <td>Database</td>\n",
       "    </tr>\n",
       "    <tr>\n",
       "      <th>2996</th>\n",
       "      <td>sent monday issues Hi keep getting errors whil...</td>\n",
       "      <td>Database</td>\n",
       "    </tr>\n",
       "    <tr>\n",
       "      <th>2997</th>\n",
       "      <td>sent monday en working properly Hi guys we hav...</td>\n",
       "      <td>Database</td>\n",
       "    </tr>\n",
       "    <tr>\n",
       "      <th>2998</th>\n",
       "      <td>sent wednesday july Hi; Please log incident fo...</td>\n",
       "      <td>Database</td>\n",
       "    </tr>\n",
       "    <tr>\n",
       "      <th>2999</th>\n",
       "      <td>sent tuesday july connection issues Hello have...</td>\n",
       "      <td>Database</td>\n",
       "    </tr>\n",
       "  </tbody>\n",
       "</table>\n",
       "</div>"
      ],
      "text/plain": [
       "                                            description  category\n",
       "2990  sent monday printer issues Hi xerox printer ac...  Database\n",
       "2991  sent tuesday re notification upgrade la thanks...  Database\n",
       "2992  sent monday re sporadically send certain invit...  Database\n",
       "2993  one plastic pieces covering hinge keeps screen...  Database\n",
       "2994  sent friday problem data aud sica sa sa data s...  Database\n",
       "2995  sent tuesday feedback follow up! conf call Hel...  Database\n",
       "2996  sent monday issues Hi keep getting errors whil...  Database\n",
       "2997  sent monday en working properly Hi guys we hav...  Database\n",
       "2998  sent wednesday july Hi; Please log incident fo...  Database\n",
       "2999  sent tuesday july connection issues Hello have...  Database"
      ]
     },
     "execution_count": 4,
     "metadata": {},
     "output_type": "execute_result"
    }
   ],
   "source": [
    "df.tail(10) # displays 10 last rows"
   ]
  },
  {
   "cell_type": "markdown",
   "id": "b23d8748",
   "metadata": {},
   "source": [
    "Counting the rows for each Category of IT Support Tickets"
   ]
  },
  {
   "cell_type": "code",
   "execution_count": 5,
   "id": "ed077552",
   "metadata": {},
   "outputs": [
    {
     "data": {
      "text/plain": [
       "Text(0, 0.5, 'Number of rows')"
      ]
     },
     "execution_count": 5,
     "metadata": {},
     "output_type": "execute_result"
    },
    {
     "data": {
      "image/png": "[encoded data removed]",
      "text/plain": [
       "<Figure size 648x504 with 1 Axes>"
      ]
     },
     "metadata": {
      "needs_background": "light"
     },
     "output_type": "display_data"
    }
   ],
   "source": [
    "# Visualizing the number of rows for each category\n",
    "df[\"category\"].value_counts().plot(kind = \"bar\", figsize=(9, 7), rot=0)\n",
    "\n",
    "plt.title(\"Count of rows for each category of ticket\", fontsize=18)\n",
    "plt.xlabel(\"Category\", labelpad=20, fontsize=16)\n",
    "plt.ylabel(\"Number of rows\", labelpad=20, fontsize=16)"
   ]
  },
  {
   "cell_type": "markdown",
   "id": "aaa7af14",
   "metadata": {},
   "source": [
    "# Data Preprocessing\n",
    "\n",
    "In the current context, the data preprocessing stage is even more important as the data is user-generated and may contain a large quantity of noise. \n",
    "\n",
    "In order to facilitate the training and testing phases, it is required to perform data cleansing by:\n",
    "\n",
    "-  Standardising the data by transforming every character into lowercase\n",
    "-  Reducing noise (data of low relevance and quality) by removing punctuations"
   ]
  },
  {
   "cell_type": "markdown",
   "id": "974c02df",
   "metadata": {},
   "source": [
    "### Making every character in the dataset lower case"
   ]
  },
  {
   "cell_type": "code",
   "execution_count": 6,
   "id": "b7d3fb44",
   "metadata": {},
   "outputs": [],
   "source": [
    "df[\"description\"] = df[\"description\"].map(lambda description_row: description_row.lower())"
   ]
  },
  {
   "cell_type": "markdown",
   "id": "5f6a8b8a",
   "metadata": {},
   "source": [
    "### Removing punctuations from the dataset"
   ]
  },
  {
   "cell_type": "code",
   "execution_count": 7,
   "id": "89d1099e",
   "metadata": {},
   "outputs": [],
   "source": [
    "df[\"description\"] = df[\"description\"].map(lambda description_row: description_row.replace(\"[^\\w\\s]\", \"\"))"
   ]
  },
  {
   "cell_type": "markdown",
   "id": "e383aa93",
   "metadata": {},
   "source": [
    "### Tokenization\n",
    "In this process, each sentence for each description are broken down into individual words.\n",
    "This will facilitate the manipulation of the dataset during feature extraction."
   ]
  },
  {
   "cell_type": "code",
   "execution_count": 8,
   "id": "b343f076",
   "metadata": {},
   "outputs": [],
   "source": [
    "df[\"description\"] = df[\"description\"].apply(nltk.word_tokenize)"
   ]
  },
  {
   "cell_type": "code",
   "execution_count": 9,
   "id": "500607dc",
   "metadata": {},
   "outputs": [
    {
     "data": {
      "text/html": [
       "<div>\n",
       "<style scoped>\n",
       "    .dataframe tbody tr th:only-of-type {\n",
       "        vertical-align: middle;\n",
       "    }\n",
       "\n",
       "    .dataframe tbody tr th {\n",
       "        vertical-align: top;\n",
       "    }\n",
       "\n",
       "    .dataframe thead th {\n",
       "        text-align: right;\n",
       "    }\n",
       "</style>\n",
       "<table border=\"1\" class=\"dataframe\">\n",
       "  <thead>\n",
       "    <tr style=\"text-align: right;\">\n",
       "      <th></th>\n",
       "      <th>description</th>\n",
       "      <th>category</th>\n",
       "    </tr>\n",
       "  </thead>\n",
       "  <tbody>\n",
       "    <tr>\n",
       "      <th>0</th>\n",
       "      <td>[hi, since, recruiter, lead, permission, appro...</td>\n",
       "      <td>Application</td>\n",
       "    </tr>\n",
       "    <tr>\n",
       "      <th>1</th>\n",
       "      <td>[re, expire, days, hi, ask, help, update, pass...</td>\n",
       "      <td>Application</td>\n",
       "    </tr>\n",
       "    <tr>\n",
       "      <th>2</th>\n",
       "      <td>[verification, warning, hi, has, got, attached...</td>\n",
       "      <td>Application</td>\n",
       "    </tr>\n",
       "    <tr>\n",
       "      <th>3</th>\n",
       "      <td>[please, dear, looks, blacklisted, receiving, ...</td>\n",
       "      <td>Application</td>\n",
       "    </tr>\n",
       "    <tr>\n",
       "      <th>4</th>\n",
       "      <td>[dear, modules, report, report, cost, thank, m...</td>\n",
       "      <td>Application</td>\n",
       "    </tr>\n",
       "  </tbody>\n",
       "</table>\n",
       "</div>"
      ],
      "text/plain": [
       "                                         description     category\n",
       "0  [hi, since, recruiter, lead, permission, appro...  Application\n",
       "1  [re, expire, days, hi, ask, help, update, pass...  Application\n",
       "2  [verification, warning, hi, has, got, attached...  Application\n",
       "3  [please, dear, looks, blacklisted, receiving, ...  Application\n",
       "4  [dear, modules, report, report, cost, thank, m...  Application"
      ]
     },
     "execution_count": 9,
     "metadata": {},
     "output_type": "execute_result"
    }
   ],
   "source": [
    "df.head(5)"
   ]
  },
  {
   "cell_type": "markdown",
   "id": "bdd609a4",
   "metadata": {},
   "source": [
    "## Word Stemming\n",
    "\n",
    "Using word stemming to reduce each word to its word stem"
   ]
  },
  {
   "cell_type": "code",
   "execution_count": 10,
   "id": "e0de1dfa",
   "metadata": {},
   "outputs": [
    {
     "data": {
      "text/html": [
       "<div>\n",
       "<style scoped>\n",
       "    .dataframe tbody tr th:only-of-type {\n",
       "        vertical-align: middle;\n",
       "    }\n",
       "\n",
       "    .dataframe tbody tr th {\n",
       "        vertical-align: top;\n",
       "    }\n",
       "\n",
       "    .dataframe thead th {\n",
       "        text-align: right;\n",
       "    }\n",
       "</style>\n",
       "<table border=\"1\" class=\"dataframe\">\n",
       "  <thead>\n",
       "    <tr style=\"text-align: right;\">\n",
       "      <th></th>\n",
       "      <th>description</th>\n",
       "      <th>category</th>\n",
       "    </tr>\n",
       "  </thead>\n",
       "  <tbody>\n",
       "    <tr>\n",
       "      <th>0</th>\n",
       "      <td>[hi, sinc, recruit, lead, permiss, approv, req...</td>\n",
       "      <td>Application</td>\n",
       "    </tr>\n",
       "    <tr>\n",
       "      <th>1</th>\n",
       "      <td>[re, expir, day, hi, ask, help, updat, passwor...</td>\n",
       "      <td>Application</td>\n",
       "    </tr>\n",
       "    <tr>\n",
       "      <th>2</th>\n",
       "      <td>[verif, warn, hi, ha, got, attach, pleas, addr...</td>\n",
       "      <td>Application</td>\n",
       "    </tr>\n",
       "    <tr>\n",
       "      <th>3</th>\n",
       "      <td>[pleas, dear, look, blacklist, receiv, mail, a...</td>\n",
       "      <td>Application</td>\n",
       "    </tr>\n",
       "    <tr>\n",
       "      <th>4</th>\n",
       "      <td>[dear, modul, report, report, cost, thank, muc...</td>\n",
       "      <td>Application</td>\n",
       "    </tr>\n",
       "  </tbody>\n",
       "</table>\n",
       "</div>"
      ],
      "text/plain": [
       "                                         description     category\n",
       "0  [hi, sinc, recruit, lead, permiss, approv, req...  Application\n",
       "1  [re, expir, day, hi, ask, help, updat, passwor...  Application\n",
       "2  [verif, warn, hi, ha, got, attach, pleas, addr...  Application\n",
       "3  [pleas, dear, look, blacklist, receiv, mail, a...  Application\n",
       "4  [dear, modul, report, report, cost, thank, muc...  Application"
      ]
     },
     "execution_count": 10,
     "metadata": {},
     "output_type": "execute_result"
    }
   ],
   "source": [
    "stemmer = PorterStemmer()\n",
    "df[\"description\"] = df[\"description\"].apply(lambda sentences: [stemmer.stem(word) for word in sentences])\n",
    "df.head()"
   ]
  },
  {
   "cell_type": "markdown",
   "id": "55d5b9b0",
   "metadata": {},
   "source": [
    "Concatenating words back together, separated by a single whitespace"
   ]
  },
  {
   "cell_type": "code",
   "execution_count": 11,
   "id": "43ffff61",
   "metadata": {},
   "outputs": [],
   "source": [
    "df[\"description\"] = df[\"description\"].apply(lambda sentences: \" \".join(sentences))"
   ]
  },
  {
   "cell_type": "code",
   "execution_count": 12,
   "id": "a22879cb",
   "metadata": {},
   "outputs": [
    {
     "data": {
      "text/html": [
       "<div>\n",
       "<style scoped>\n",
       "    .dataframe tbody tr th:only-of-type {\n",
       "        vertical-align: middle;\n",
       "    }\n",
       "\n",
       "    .dataframe tbody tr th {\n",
       "        vertical-align: top;\n",
       "    }\n",
       "\n",
       "    .dataframe thead th {\n",
       "        text-align: right;\n",
       "    }\n",
       "</style>\n",
       "<table border=\"1\" class=\"dataframe\">\n",
       "  <thead>\n",
       "    <tr style=\"text-align: right;\">\n",
       "      <th></th>\n",
       "      <th>description</th>\n",
       "      <th>category</th>\n",
       "    </tr>\n",
       "  </thead>\n",
       "  <tbody>\n",
       "    <tr>\n",
       "      <th>0</th>\n",
       "      <td>hi sinc recruit lead permiss approv requisit m...</td>\n",
       "      <td>Application</td>\n",
       "    </tr>\n",
       "    <tr>\n",
       "      <th>1</th>\n",
       "      <td>re expir day hi ask help updat password collea...</td>\n",
       "      <td>Application</td>\n",
       "    </tr>\n",
       "    <tr>\n",
       "      <th>2</th>\n",
       "      <td>verif warn hi ha got attach pleas address best...</td>\n",
       "      <td>Application</td>\n",
       "    </tr>\n",
       "    <tr>\n",
       "      <th>3</th>\n",
       "      <td>pleas dear look blacklist receiv mail anymor s...</td>\n",
       "      <td>Application</td>\n",
       "    </tr>\n",
       "    <tr>\n",
       "      <th>4</th>\n",
       "      <td>dear modul report report cost thank much regard .</td>\n",
       "      <td>Application</td>\n",
       "    </tr>\n",
       "  </tbody>\n",
       "</table>\n",
       "</div>"
      ],
      "text/plain": [
       "                                         description     category\n",
       "0  hi sinc recruit lead permiss approv requisit m...  Application\n",
       "1  re expir day hi ask help updat password collea...  Application\n",
       "2  verif warn hi ha got attach pleas address best...  Application\n",
       "3  pleas dear look blacklist receiv mail anymor s...  Application\n",
       "4  dear modul report report cost thank much regard .  Application"
      ]
     },
     "execution_count": 12,
     "metadata": {},
     "output_type": "execute_result"
    }
   ],
   "source": [
    "df.head()"
   ]
  },
  {
   "cell_type": "markdown",
   "id": "3be00fe7",
   "metadata": {},
   "source": [
    "# Feature Selection\n",
    "\n",
    "Using a Count Vectorizer to obtain the frequency of each word in the overall dataset"
   ]
  },
  {
   "cell_type": "code",
   "execution_count": 13,
   "id": "4dedd7ff",
   "metadata": {},
   "outputs": [],
   "source": [
    "token_count_vect = CountVectorizer()\n",
    "token_counts = token_count_vect.fit_transform(df[\"description\"])"
   ]
  },
  {
   "cell_type": "markdown",
   "id": "106cdd3a",
   "metadata": {},
   "source": [
    "### Visualizing the most frequently-occurring words "
   ]
  },
  {
   "cell_type": "code",
   "execution_count": 14,
   "id": "e7df7017",
   "metadata": {
    "scrolled": false
   },
   "outputs": [
    {
     "data": {
      "image/png": "[encoded data removed]",
      "text/plain": [
       "<Figure size 1080x720 with 1 Axes>"
      ]
     },
     "metadata": {
      "needs_background": "light"
     },
     "output_type": "display_data"
    }
   ],
   "source": [
    "features   = token_count_vect.get_feature_names()\n",
    "visualizer = FreqDistVisualizer(features=features, orient='v', size=(1080, 720))\n",
    "visualizer.fit(token_counts);"
   ]
  },
  {
   "cell_type": "markdown",
   "id": "5697ae58",
   "metadata": {},
   "source": [
    "### Using Term Frequency Inverse Document Frequency\n",
    "TFIDF is a statistical measure that will help us determine the relevancy of each word throughout the dataset"
   ]
  },
  {
   "cell_type": "code",
   "execution_count": 15,
   "id": "d58abb51",
   "metadata": {},
   "outputs": [],
   "source": [
    "token_count_transformer = TfidfTransformer().fit(token_counts)\n",
    "token_counts = token_count_transformer.transform(token_counts)"
   ]
  },
  {
   "cell_type": "code",
   "execution_count": 16,
   "id": "c7c8b589",
   "metadata": {},
   "outputs": [
    {
     "data": {
      "text/html": [
       "<div>\n",
       "<style scoped>\n",
       "    .dataframe tbody tr th:only-of-type {\n",
       "        vertical-align: middle;\n",
       "    }\n",
       "\n",
       "    .dataframe tbody tr th {\n",
       "        vertical-align: top;\n",
       "    }\n",
       "\n",
       "    .dataframe thead th {\n",
       "        text-align: right;\n",
       "    }\n",
       "</style>\n",
       "<table border=\"1\" class=\"dataframe\">\n",
       "  <thead>\n",
       "    <tr style=\"text-align: right;\">\n",
       "      <th></th>\n",
       "      <th>idf_weights</th>\n",
       "    </tr>\n",
       "  </thead>\n",
       "  <tbody>\n",
       "    <tr>\n",
       "      <th>ab</th>\n",
       "      <td>7.908089</td>\n",
       "    </tr>\n",
       "    <tr>\n",
       "      <th>abandon</th>\n",
       "      <td>7.908089</td>\n",
       "    </tr>\n",
       "    <tr>\n",
       "      <th>abil</th>\n",
       "      <td>6.927259</td>\n",
       "    </tr>\n",
       "    <tr>\n",
       "      <th>abl</th>\n",
       "      <td>5.074875</td>\n",
       "    </tr>\n",
       "    <tr>\n",
       "      <th>abnorm</th>\n",
       "      <td>8.313554</td>\n",
       "    </tr>\n",
       "  </tbody>\n",
       "</table>\n",
       "</div>"
      ],
      "text/plain": [
       "         idf_weights\n",
       "ab          7.908089\n",
       "abandon     7.908089\n",
       "abil        6.927259\n",
       "abl         5.074875\n",
       "abnorm      8.313554"
      ]
     },
     "execution_count": 16,
     "metadata": {},
     "output_type": "execute_result"
    }
   ],
   "source": [
    "df_idf = pd.DataFrame(token_count_transformer.idf_, index = token_count_vect.get_feature_names(), columns=[\"idf_weights\"])\n",
    "df_idf.sort_values(by=[\"idf_weights\"])\n",
    "df_idf.head(5)"
   ]
  },
  {
   "cell_type": "markdown",
   "id": "57842032",
   "metadata": {},
   "source": [
    "# Dataset Splitting\n",
    "\n",
    "The dataset is split into training batch (80%) and testing batch (20%). This will help gauge better the accuracy after training and detect whether the model if overfitting or not."
   ]
  },
  {
   "cell_type": "code",
   "execution_count": 17,
   "id": "dcfb24db",
   "metadata": {},
   "outputs": [],
   "source": [
    "description_training, description_testing, category_training, category_testing = train_test_split(token_counts, df[\"category\"], test_size=.2, random_state=69)"
   ]
  },
  {
   "cell_type": "markdown",
   "id": "8a4fb3ca",
   "metadata": {},
   "source": [
    "# Naive Bayes"
   ]
  },
  {
   "cell_type": "markdown",
   "id": "3242797e",
   "metadata": {},
   "source": [
    "The multinomial Naive Bayes classifier (`MultinomialNB`) has been selected as the classifier as it is best-suited for classification of discrete features. In this case, the discrete features are the word_counts for each corresponding category. "
   ]
  },
  {
   "cell_type": "code",
   "execution_count": 18,
   "id": "8d079fba",
   "metadata": {},
   "outputs": [],
   "source": [
    "nb_model = MultinomialNB().fit(description_training, category_training)"
   ]
  },
  {
   "cell_type": "markdown",
   "id": "c2712329",
   "metadata": {},
   "source": [
    "#### Prediction using Test data\n",
    "The test data is fed into the classifier and the average of predicted categories which correspond to the actual categories is computed. \n",
    "\n",
    "This computed value represents the accuracy of the model."
   ]
  },
  {
   "cell_type": "code",
   "execution_count": 19,
   "id": "356434d4",
   "metadata": {},
   "outputs": [
    {
     "name": "stdout",
     "output_type": "stream",
     "text": [
      "Accuracy of Naive Bayesian Model: 0.77\n"
     ]
    }
   ],
   "source": [
    "predicted = nb_model.predict(description_testing)\n",
    "\n",
    "print(\"Accuracy of Naive Bayesian Model: %s\" %(np.mean(predicted==category_testing)))"
   ]
  },
  {
   "cell_type": "markdown",
   "id": "9a8ab4dd",
   "metadata": {},
   "source": [
    "# Decision Trees"
   ]
  },
  {
   "cell_type": "code",
   "execution_count": 20,
   "id": "8cc93179",
   "metadata": {},
   "outputs": [
    {
     "name": "stdout",
     "output_type": "stream",
     "text": [
      "Accuracy of the Decision Trees Model: 0.6216666666666667\n"
     ]
    }
   ],
   "source": [
    "clf = DecisionTreeClassifier()\n",
    "clf = clf.fit(description_training, category_training)\n",
    "clf_predicted = clf.predict(description_testing)\n",
    "\n",
    "print(\"Accuracy of the Decision Trees Model: %s\" %(np.mean(clf_predicted==category_testing)))"
   ]
  },
  {
   "cell_type": "markdown",
   "id": "3e0ed603",
   "metadata": {},
   "source": [
    "# K-Nearest Neighbor"
   ]
  },
  {
   "cell_type": "code",
   "execution_count": 21,
   "id": "4ae296bc",
   "metadata": {},
   "outputs": [
    {
     "name": "stdout",
     "output_type": "stream",
     "text": [
      "Accuracy of the KNN Model: 0.7283333333333334\n"
     ]
    }
   ],
   "source": [
    "scaler = StandardScaler(with_mean=False)\n",
    "scaler.fit(description_training)\n",
    "\n",
    "classifier = KNeighborsClassifier(n_neighbors=5)\n",
    "classifier.fit(description_training, category_training)\n",
    "knn_predicted = classifier.predict(description_testing)\n",
    "\n",
    "print(\"Accuracy of the KNN Model: %s\" %(np.mean(knn_predicted==category_testing)))"
   ]
  },
  {
   "cell_type": "markdown",
   "id": "e55e98ae",
   "metadata": {},
   "source": [
    "# Support Vector Machines"
   ]
  },
  {
   "cell_type": "code",
   "execution_count": 22,
   "id": "2c76c04f",
   "metadata": {},
   "outputs": [
    {
     "name": "stdout",
     "output_type": "stream",
     "text": [
      "Accuracy of the SVM Model: 0.7883333333333333\n"
     ]
    }
   ],
   "source": [
    "svm_clf = svm.SVC(kernel=\"linear\")\n",
    "svm_clf.fit(description_training, category_training)\n",
    "svm_predicted = svm_clf.predict(description_testing)\n",
    "\n",
    "print(\"Accuracy of the SVM Model: %s\" %(np.mean(svm_predicted==category_testing)))"
   ]
  },
  {
   "cell_type": "markdown",
   "id": "34dfc4ae",
   "metadata": {},
   "source": [
    "# Evaluation\n",
    "\n",
    "In the current context,  in order to improve the accuracy of a model and obtain an indication on how to achieve a desirable accuracy, it is important to evaluate the model using evaluation metrics. \n",
    "\n",
    "This will also determine the best-suited model for the current scenario.\n"
   ]
  },
  {
   "cell_type": "markdown",
   "id": "1bad3e6d",
   "metadata": {},
   "source": [
    "## Evaluation Metric: \n",
    "\n",
    "- *Precision*\n",
    "\n",
    "Precision can be seen as a measure of a classifier’s exactness.\n",
    "\n",
    "- *Recall*\n",
    "\n",
    "Recall is a measure of the classifier’s completeness; the ability of a classifier to correctly find all positive instances.\n",
    "\n",
    "- *F1 score*\n",
    "\n",
    "The F1 score is a weighted harmonic mean of precision and recall such that the best score is 1.0 and the worst is 0.0. \n",
    "\n",
    "- *Support*\n",
    "\n",
    "Support is the number of actual occurrences of the class in the specified dataset.\n"
   ]
  },
  {
   "cell_type": "markdown",
   "id": "e4c30752",
   "metadata": {},
   "source": [
    "## Classification Report for: Naive Bayes"
   ]
  },
  {
   "cell_type": "code",
   "execution_count": 23,
   "id": "3a0350f8",
   "metadata": {},
   "outputs": [
    {
     "name": "stdout",
     "output_type": "stream",
     "text": [
      "                  precision    recall  f1-score   support\n",
      "\n",
      "     Application       0.73      0.81      0.77       117\n",
      "        Database       0.83      0.72      0.77       122\n",
      "         Network       0.71      0.66      0.68       117\n",
      "        Security       0.83      0.78      0.81       129\n",
      "User Maintenance       0.76      0.88      0.81       115\n",
      "\n",
      "       micro avg       0.77      0.77      0.77       600\n",
      "       macro avg       0.77      0.77      0.77       600\n",
      "    weighted avg       0.77      0.77      0.77       600\n",
      "\n"
     ]
    }
   ],
   "source": [
    "print(classification_report(category_testing, predicted));"
   ]
  },
  {
   "cell_type": "markdown",
   "id": "4830c46c",
   "metadata": {},
   "source": [
    "## Classification Report for: Decision Trees"
   ]
  },
  {
   "cell_type": "code",
   "execution_count": 24,
   "id": "dc50ada0",
   "metadata": {},
   "outputs": [
    {
     "name": "stdout",
     "output_type": "stream",
     "text": [
      "                  precision    recall  f1-score   support\n",
      "\n",
      "     Application       0.61      0.56      0.58       117\n",
      "        Database       0.65      0.59      0.62       122\n",
      "         Network       0.48      0.51      0.50       117\n",
      "        Security       0.71      0.67      0.69       129\n",
      "User Maintenance       0.66      0.77      0.71       115\n",
      "\n",
      "       micro avg       0.62      0.62      0.62       600\n",
      "       macro avg       0.62      0.62      0.62       600\n",
      "    weighted avg       0.62      0.62      0.62       600\n",
      "\n"
     ]
    }
   ],
   "source": [
    "print(classification_report(category_testing, clf_predicted));"
   ]
  },
  {
   "cell_type": "markdown",
   "id": "37dc1dc2",
   "metadata": {},
   "source": [
    "## Classification Report for: K-Nearest Neighbor"
   ]
  },
  {
   "cell_type": "code",
   "execution_count": 25,
   "id": "e7e8f8ff",
   "metadata": {},
   "outputs": [
    {
     "name": "stdout",
     "output_type": "stream",
     "text": [
      "                  precision    recall  f1-score   support\n",
      "\n",
      "     Application       0.68      0.79      0.73       117\n",
      "        Database       0.73      0.73      0.73       122\n",
      "         Network       0.70      0.53      0.60       117\n",
      "        Security       0.80      0.73      0.76       129\n",
      "User Maintenance       0.73      0.86      0.79       115\n",
      "\n",
      "       micro avg       0.73      0.73      0.73       600\n",
      "       macro avg       0.73      0.73      0.72       600\n",
      "    weighted avg       0.73      0.73      0.72       600\n",
      "\n"
     ]
    }
   ],
   "source": [
    "print(classification_report(category_testing, knn_predicted));"
   ]
  },
  {
   "cell_type": "markdown",
   "id": "520a30ed",
   "metadata": {},
   "source": [
    "## Classification Report for: Support Vector Machines"
   ]
  },
  {
   "cell_type": "code",
   "execution_count": 26,
   "id": "6f95983d",
   "metadata": {},
   "outputs": [
    {
     "name": "stdout",
     "output_type": "stream",
     "text": [
      "                  precision    recall  f1-score   support\n",
      "\n",
      "     Application       0.71      0.86      0.78       117\n",
      "        Database       0.79      0.75      0.77       122\n",
      "         Network       0.75      0.68      0.71       117\n",
      "        Security       0.91      0.76      0.83       129\n",
      "User Maintenance       0.80      0.90      0.85       115\n",
      "\n",
      "       micro avg       0.79      0.79      0.79       600\n",
      "       macro avg       0.79      0.79      0.79       600\n",
      "    weighted avg       0.79      0.79      0.79       600\n",
      "\n"
     ]
    }
   ],
   "source": [
    "print(classification_report(category_testing, svm_predicted));"
   ]
  },
  {
   "cell_type": "markdown",
   "id": "ec904b9c",
   "metadata": {},
   "source": [
    "## References & Resources"
   ]
  },
  {
   "cell_type": "markdown",
   "id": "6809b469",
   "metadata": {},
   "source": [
    "- https://thesai.org/Downloads/Volume4No11/Paper_5-Performance_Comparison_between_Na%C3%AFve_Bayes.pdf\n",
    "- https://stackabuse.com/the-naive-bayes-algorithm-in-python-with-scikit-learn/\n",
    "- https://www.datacamp.com/community/tutorials/decision-tree-classification-python\n",
    "- https://stackabuse.com/k-nearest-neighbors-algorithm-in-python-and-scikit-learn/\n",
    "- https://www.datacamp.com/community/tutorials/svm-classification-scikit-learn-python\n",
    "- https://stackabuse.com/implementing-svm-and-kernel-svm-with-pythons-scikit-learn/"
   ]
  },
  {
   "cell_type": "code",
   "execution_count": null,
   "id": "e2b519bc",
   "metadata": {},
   "outputs": [],
   "source": []
  }
 ],
 "metadata": {
  "kernelspec": {
   "display_name": "Python 3",
   "language": "python",
   "name": "python3"
  },
  "language_info": {
   "codemirror_mode": {
    "name": "ipython",
    "version": 3
   },
   "file_extension": ".py",
   "mimetype": "text/x-python",
   "name": "python",
   "nbconvert_exporter": "python",
   "pygments_lexer": "ipython3",
   "version": "3.5.6"
  }
 },
 "nbformat": 4,
 "nbformat_minor": 5
}
